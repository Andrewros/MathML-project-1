{
 "cells": [
  {
   "cell_type": "code",
   "execution_count": 1,
   "id": "4a0c2fbf",
   "metadata": {},
   "outputs": [],
   "source": [
    "#Import modules and data\n",
    "from sklearn.datasets import load_breast_cancer\n",
    "from sklearn.svm import SVC\n",
    "from sklearn.preprocessing import StandardScaler\n",
    "from sklearn.model_selection import train_test_split\n",
    "from sklearn.metrics import accuracy_score\n",
    "data=load_breast_cancer()\n",
    "X = data.data\n",
    "y = data.target\n",
    "xtrain, xtest, ytrain, ytest=train_test_split(X, y, test_size=0.2, random_state=1)"
   ]
  },
  {
   "cell_type": "code",
   "execution_count": 2,
   "id": "df0279b5",
   "metadata": {},
   "outputs": [],
   "source": [
    "#Preprocess the data\n",
    "scaler = StandardScaler()\n",
    "new_xtrain = scaler.fit_transform(xtrain)\n",
    "new_xtest = scaler.transform(xtest)"
   ]
  },
  {
   "cell_type": "code",
   "execution_count": 3,
   "id": "5dd16f44",
   "metadata": {},
   "outputs": [
    {
     "name": "stdout",
     "output_type": "stream",
     "text": [
      "Test accuracy for linear kernel: 0.9649122807017544\n"
     ]
    }
   ],
   "source": [
    "#First model is linear kernel\n",
    "svm=SVC(kernel=\"linear\")\n",
    "svm.fit(new_xtrain, ytrain)\n",
    "yhat=svm.predict(new_xtest)\n",
    "print(f\"Test accuracy for linear kernel: {accuracy_score(yhat, ytest)}\")"
   ]
  },
  {
   "cell_type": "code",
   "execution_count": 4,
   "id": "861c413d",
   "metadata": {},
   "outputs": [
    {
     "name": "stdout",
     "output_type": "stream",
     "text": [
      "Test accuracy for polynomial kernel of degree 5: 0.7894736842105263\n"
     ]
    }
   ],
   "source": [
    "#Second model is polynomial kernel of degree 5\n",
    "svm=SVC(kernel=\"poly\", degree=5)\n",
    "svm.fit(new_xtrain, ytrain)\n",
    "yhat=svm.predict(new_xtest)\n",
    "print(f\"Test accuracy for polynomial kernel of degree 5: {accuracy_score(yhat, ytest)}\")"
   ]
  },
  {
   "cell_type": "code",
   "execution_count": 5,
   "id": "05247e9e",
   "metadata": {},
   "outputs": [
    {
     "name": "stdout",
     "output_type": "stream",
     "text": [
      "Test accuracy for gaussian kernel: 0.9736842105263158\n"
     ]
    }
   ],
   "source": [
    "#Final model is gaussian kernel(also known as radial basis function)\n",
    "svm=SVC(kernel=\"rbf\")\n",
    "svm.fit(new_xtrain, ytrain)\n",
    "yhat=svm.predict(new_xtest)\n",
    "print(f\"Test accuracy for gaussian kernel: {accuracy_score(yhat, ytest)}\")"
   ]
  },
  {
   "cell_type": "code",
   "execution_count": 34,
   "id": "158bfb2e",
   "metadata": {},
   "outputs": [],
   "source": [
    "#The data set is the breast cancer dataset which has 30 different numerical features\n",
    "#I preprocessed the data by normalizing all of the features in the training set to have mean 0 and variance 1\n",
    "#and using that same transformation on the x's in the testing set. This lead to better performance as SVM's are \n",
    "#sensitive to distance magnitudes due to the fact that it calculates the distance when performing calculations\n",
    "#which could lead to it overfitting the larger features and underfitting the smaller features which isn't good\n",
    "#which is why I normalized the data.\n",
    "#The linear kernels and the gaussian kernel's both performed very well with the gaussian kernel performing the best\n",
    "#With an accuracy of 97% and the linear kernel having an accuracy of 96%. The polynomial kernel of degree 5\n",
    "#performed by far the worst with an accuracy of 79% which is significantly lower than the other accuracies.\n",
    "#Some of the main insights that I had from doing this was the power of an SVM to high accuracy predictions and \n",
    "#also the importance of using the correct kernel as rbf had a very high accuracy while the polynomial kernel \n",
    "#of degree 5 had an accuracy of 79% so this 18% difference in error was caused purely due to the different kernels.\n",
    "#Moreover, this taught me a lot about the importance of preprocessing as I found out the reason that it is so \n",
    "#important to preprocess the data before fitting it into an SVM as that could hurt the SVM's performance.\n",
    "#Overall the conclusion that should be drawn is that the SVM can be used to produce a high accuracy prediction\n",
    "#for the breast cancer data but that there are many different steps programmers must use to ensure that\n",
    "#there models work as best that they can like using preprocessing and using the right kernel"
   ]
  }
 ],
 "metadata": {
  "kernelspec": {
   "display_name": "Python 3 (ipykernel)",
   "language": "python",
   "name": "python3"
  },
  "language_info": {
   "codemirror_mode": {
    "name": "ipython",
    "version": 3
   },
   "file_extension": ".py",
   "mimetype": "text/x-python",
   "name": "python",
   "nbconvert_exporter": "python",
   "pygments_lexer": "ipython3",
   "version": "3.10.8"
  }
 },
 "nbformat": 4,
 "nbformat_minor": 5
}
